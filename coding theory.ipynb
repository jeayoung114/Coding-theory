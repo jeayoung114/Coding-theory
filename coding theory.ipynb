{
 "cells": [
  {
   "cell_type": "code",
   "execution_count": 1,
   "metadata": {
    "collapsed": true
   },
   "outputs": [],
   "source": [
    "def dist(A,B):  ##dist함수 정의\n",
    "    a=0\n",
    "    for i in range(len(A)):\n",
    "       a+=abs(A[i]-B[i])\n",
    "    \n",
    "    return a"
   ]
  },
  {
   "cell_type": "code",
   "execution_count": 2,
   "metadata": {},
   "outputs": [
    {
     "data": {
      "text/plain": [
       "4"
      ]
     },
     "execution_count": 2,
     "metadata": {},
     "output_type": "execute_result"
    }
   ],
   "source": [
    "dist([1,0,0,0],[0,1,1,1])"
   ]
  },
  {
   "cell_type": "code",
   "execution_count": 3,
   "metadata": {
    "collapsed": true
   },
   "outputs": [],
   "source": [
    "def mindist(A): ##A집합 안에서의 최소 dist를 구하는 함수\n",
    "    B=[]\n",
    "    for i in range(len(A)):\n",
    "        for j in range(len(A)):\n",
    "            \n",
    "            if i==j:\n",
    "                continue\n",
    "            B.append(dist(A[i],A[j]))\n",
    "    return min(B)"
   ]
  },
  {
   "cell_type": "code",
   "execution_count": 4,
   "metadata": {},
   "outputs": [
    {
     "data": {
      "text/plain": [
       "[1, 0, 0, 0]"
      ]
     },
     "execution_count": 4,
     "metadata": {},
     "output_type": "execute_result"
    }
   ],
   "source": [
    "A=[[1,0,0,0],[0,1,1,1],[1,1,1,1]]\n",
    "len(A)\n",
    "A[0]"
   ]
  },
  {
   "cell_type": "code",
   "execution_count": 5,
   "metadata": {},
   "outputs": [
    {
     "data": {
      "text/plain": [
       "1"
      ]
     },
     "execution_count": 5,
     "metadata": {},
     "output_type": "execute_result"
    }
   ],
   "source": [
    "mindist([[1,0,0,0],[0,1,1,1],[1,1,1,1]])"
   ]
  },
  {
   "cell_type": "code",
   "execution_count": 6,
   "metadata": {
    "scrolled": true
   },
   "outputs": [
    {
     "name": "stdout",
     "output_type": "stream",
     "text": [
      "[(1, 1, 1, 1, 1, 1), (1, 1, 1, 1, 1, 0), (1, 1, 1, 1, 0, 1), (1, 1, 1, 1, 0, 0), (1, 1, 1, 0, 1, 1), (1, 1, 1, 0, 1, 0), (1, 1, 1, 0, 0, 1), (1, 1, 1, 0, 0, 0), (1, 1, 0, 1, 1, 1), (1, 1, 0, 1, 1, 0), (1, 1, 0, 1, 0, 1), (1, 1, 0, 1, 0, 0), (1, 1, 0, 0, 1, 1), (1, 1, 0, 0, 1, 0), (1, 1, 0, 0, 0, 1), (1, 1, 0, 0, 0, 0), (1, 0, 1, 1, 1, 1), (1, 0, 1, 1, 1, 0), (1, 0, 1, 1, 0, 1), (1, 0, 1, 1, 0, 0), (1, 0, 1, 0, 1, 1), (1, 0, 1, 0, 1, 0), (1, 0, 1, 0, 0, 1), (1, 0, 1, 0, 0, 0), (1, 0, 0, 1, 1, 1), (1, 0, 0, 1, 1, 0), (1, 0, 0, 1, 0, 1), (1, 0, 0, 1, 0, 0), (1, 0, 0, 0, 1, 1), (1, 0, 0, 0, 1, 0), (1, 0, 0, 0, 0, 1), (1, 0, 0, 0, 0, 0), (0, 1, 1, 1, 1, 1), (0, 1, 1, 1, 1, 0), (0, 1, 1, 1, 0, 1), (0, 1, 1, 1, 0, 0), (0, 1, 1, 0, 1, 1), (0, 1, 1, 0, 1, 0), (0, 1, 1, 0, 0, 1), (0, 1, 1, 0, 0, 0), (0, 1, 0, 1, 1, 1), (0, 1, 0, 1, 1, 0), (0, 1, 0, 1, 0, 1), (0, 1, 0, 1, 0, 0), (0, 1, 0, 0, 1, 1), (0, 1, 0, 0, 1, 0), (0, 1, 0, 0, 0, 1), (0, 1, 0, 0, 0, 0), (0, 0, 1, 1, 1, 1), (0, 0, 1, 1, 1, 0), (0, 0, 1, 1, 0, 1), (0, 0, 1, 1, 0, 0), (0, 0, 1, 0, 1, 1), (0, 0, 1, 0, 1, 0), (0, 0, 1, 0, 0, 1), (0, 0, 1, 0, 0, 0), (0, 0, 0, 1, 1, 1), (0, 0, 0, 1, 1, 0), (0, 0, 0, 1, 0, 1), (0, 0, 0, 1, 0, 0), (0, 0, 0, 0, 1, 1), (0, 0, 0, 0, 1, 0), (0, 0, 0, 0, 0, 1), (0, 0, 0, 0, 0, 0)]\n"
     ]
    }
   ],
   "source": [
    "from itertools import product, permutations ##6자리 binary code의 전체 집합 구하기\n",
    "pro=list(product([1,0],repeat=6))\n",
    "print(pro)"
   ]
  },
  {
   "cell_type": "code",
   "execution_count": null,
   "metadata": {},
   "outputs": [
    {
     "name": "stdout",
     "output_type": "stream",
     "text": [
      "15249024\n"
     ]
    }
   ],
   "source": [
    "from itertools import permutations    ##pro중에서 9개의 조합으로 만들어진 집합구하기\n",
    "per=list(permutations(pro,4))##9\n",
    "print(len(per))"
   ]
  },
  {
   "cell_type": "code",
   "execution_count": null,
   "metadata": {},
   "outputs": [],
   "source": [
    "md=[]   ##각 집합의 mindist중 최소 구하기\n",
    "len(per)\n",
    "for i in range(len(per)):\n",
    "    md.append(mindist(per[i]))\n",
    "print(max(md))"
   ]
  },
  {
   "cell_type": "code",
   "execution_count": null,
   "metadata": {
    "collapsed": true
   },
   "outputs": [],
   "source": []
  }
 ],
 "metadata": {
  "kernelspec": {
   "display_name": "Python [conda env:Anaconda3]",
   "language": "python",
   "name": "conda-env-Anaconda3-py"
  },
  "language_info": {
   "codemirror_mode": {
    "name": "ipython",
    "version": 3
   },
   "file_extension": ".py",
   "mimetype": "text/x-python",
   "name": "python",
   "nbconvert_exporter": "python",
   "pygments_lexer": "ipython3",
   "version": "3.6.3"
  }
 },
 "nbformat": 4,
 "nbformat_minor": 2
}
